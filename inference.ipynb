{
 "cells": [
  {
   "cell_type": "markdown",
   "metadata": {},
   "source": [
    "# Inference Script"
   ]
  },
  {
   "cell_type": "markdown",
   "metadata": {},
   "source": [
    "## This file is for the purposes of explaining the code flow of inference, for execution it is advised to use .py file"
   ]
  },
  {
   "cell_type": "markdown",
   "metadata": {},
   "source": [
    "    Impporting all the libraries for inference and its same as training"
   ]
  },
  {
   "cell_type": "code",
   "execution_count": null,
   "metadata": {},
   "outputs": [],
   "source": [
    "import glob\n",
    "import os\n",
    "import numpy as np\n",
    "import cv2\n",
    "from keras.applications.vgg16 import VGG16\n",
    "from keras.preprocessing.image import img_to_array\n",
    "from keras.models import Sequential, Model\n",
    "from keras.layers import Dense, GlobalAveragePooling2D\n",
    "from keras.layers import Conv2D, MaxPooling2D\n",
    "from keras.optimizers import SGD, Adam\n",
    "from keras.utils import to_categorical\n",
    "from matplotlib import pyplot as plt\n",
    "import random\n",
    "import pdb"
   ]
  },
  {
   "cell_type": "markdown",
   "metadata": {},
   "source": [
    "    Below is the dictonary of label to convert the neural network output to meaningfull information"
   ]
  },
  {
   "cell_type": "code",
   "execution_count": null,
   "metadata": {},
   "outputs": [],
   "source": [
    "label = {\n",
    "    0 : 'recepit',\n",
    "    1 : 'non-recepit'\n",
    "}"
   ]
  },
  {
   "cell_type": "markdown",
   "metadata": {},
   "source": [
    "    Now we call the same architecture on to which training is done."
   ]
  },
  {
   "cell_type": "code",
   "execution_count": null,
   "metadata": {},
   "outputs": [],
   "source": [
    "img_rows, img_cols = 224, 224\n",
    "input_shape = (img_rows, img_cols, 3)\n",
    "def create_model():\n",
    "    base_model = VGG16(weights='imagenet', include_top=False)\n",
    "    model = base_model.output\n",
    "    model = GlobalAveragePooling2D()(model)\n",
    "    x = Dense(1024, activation='relu')(model)\n",
    "    predictions = Dense(2,activation='softmax')(x)\n",
    "    model = Model(input=base_model.input, output=predictions)\n",
    "    return model"
   ]
  },
  {
   "cell_type": "markdown",
   "metadata": {},
   "source": [
    "    Now calling the inference funcation. This will instantiate the model on which training\n",
    "    is done and then load the weghts for it. Since Image file name and labels are passed as\n",
    "    arguments, we can read the image and make it Neural network ready and then prediction\n",
    "    is done on the image. Once we get prediction output use it to get the respective label \n",
    "    for understanding what is been predicted."
   ]
  },
  {
   "cell_type": "code",
   "execution_count": null,
   "metadata": {},
   "outputs": [],
   "source": [
    "def inference(imgname, label):\n",
    "    model = create_model()\n",
    "    model.load_weights('./model/recpit.h5')\n",
    "    model.summary()\n",
    "    img = cv2.imread(imgname)\n",
    "    img = cv2.resize(img,(224,224), interpolation = cv2.INTER_AREA)\n",
    "    img = img.reshape(-1,224,224,3)\n",
    "    prediction = model.predict(img)\n",
    "    idx = np.argmax(prediction)\n",
    "    return label[idx]"
   ]
  },
  {
   "cell_type": "code",
   "execution_count": null,
   "metadata": {},
   "outputs": [],
   "source": [
    "result = inference('./sample_data/recepit_2.jpg', label)\n",
    "print(result)"
   ]
  }
 ],
 "metadata": {
  "kernelspec": {
   "display_name": "Python 3",
   "language": "python",
   "name": "python3"
  },
  "language_info": {
   "codemirror_mode": {
    "name": "ipython",
    "version": 2
   },
   "file_extension": ".py",
   "mimetype": "text/x-python",
   "name": "python",
   "nbconvert_exporter": "python",
   "pygments_lexer": "ipython2",
   "version": "2.7.15"
  }
 },
 "nbformat": 4,
 "nbformat_minor": 2
}
